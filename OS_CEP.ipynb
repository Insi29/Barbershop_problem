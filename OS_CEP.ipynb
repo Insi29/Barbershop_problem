{
  "nbformat": 4,
  "nbformat_minor": 0,
  "metadata": {
    "colab": {
      "name": "OS CEP.ipynb",
      "provenance": [],
      "collapsed_sections": []
    },
    "kernelspec": {
      "name": "python3",
      "display_name": "Python 3"
    },
    "language_info": {
      "name": "python"
    }
  },
  "cells": [
    {
      "cell_type": "code",
      "metadata": {
        "id": "6F9WFbIR2cqM"
      },
      "source": [
        "import threading\n",
        "import time\n",
        "import multiprocessing\n",
        "from multiprocessing import Process\n",
        "from pandas import DataFrame"
      ],
      "execution_count": 1,
      "outputs": []
    },
    {
      "cell_type": "code",
      "metadata": {
        "id": "9ultxUyy3pfP"
      },
      "source": [
        "def customer(c):\n",
        "  global c_s              #c= no of customers\n",
        "  \n",
        "  cust.acquire()\n",
        "  if c<=seats and barber_sleep==0:\n",
        "    print(f\"Customer:{c} haves seat\")\n",
        "    ghc.release()                #allows to call gethaircut()\n",
        "    print(f\" Customer{c} Go have haircut.\")\n",
        "    #c_s.append(\"Haves Haircut.\")\n",
        "  elif c>seats and barber_sleep ==0:\n",
        "    back.release()\n",
        "    print(f\" Customer:{c} has to leave.\")   #allows to call balk()\n",
        "    #c_s.append(\"Customer leaves\")\n",
        "  elif c<seats and barber_sleep==1:\n",
        "    print(\"Time to wake barber up.\")\n",
        "    barb.release() \n",
        "  elif c==0 and barber_sleep==0:\n",
        "    print(\"No customers\")\n",
        "    print(\"Barber goes to sleep\")\n",
        "                                               #allows to call barber()\n",
        "  \n",
        "  \n",
        "  \n",
        "  cutting.acquire()\n",
        "  cust.release()\n",
        " \n",
        "def barber():\n",
        "  global barber_sleep\n",
        "  barb.acquire()\n",
        "  barber_sleep=0\n",
        "  print(\"Barber wakes up.\")\n",
        "  ch.release()\n",
        "  \n",
        "\n",
        "  \n",
        "def getHaircut():\n",
        "  ghc.acquire()\n",
        "  print(\"wait...\")\n",
        "  print(\"Ready for haircut!\")\n",
        "  ch.release()\n",
        "  \n",
        "def cutHair():\n",
        "  ch.acquire()\n",
        "  print(\"Hair cut done, Next please!\")\n",
        "  cutting.release()\n",
        "  cust.release()\n",
        "  \n",
        "def balk():\n",
        "  back.acquire()\n",
        "  print(\"Customer leaves as seats are full!\")"
      ],
      "execution_count": 14,
      "outputs": []
    },
    {
      "cell_type": "code",
      "metadata": {
        "id": "b7bIrxgH2qfp"
      },
      "source": [
        " \n",
        "n_l=[]\n",
        "s_l=[]\n",
        "b_s_l=[]\n",
        "c_s=[]\n",
        "ch= threading.Semaphore(0)\n",
        "cutting=threading.Semaphore(0)\n",
        "barb=threading.Semaphore(0)\n",
        "ghc=threading.Semaphore(0)\n",
        "back=threading.Semaphore(0)\n",
        "cust=threading.Semaphore(1)\n",
        " \n",
        "\n"
      ],
      "execution_count": 3,
      "outputs": []
    },
    {
      "cell_type": "code",
      "metadata": {
        "colab": {
          "base_uri": "https://localhost:8080/"
        },
        "id": "RAi4FinEwb7N",
        "outputId": "5fe5e39a-1d36-48c9-dd93-ae3c94614479"
      },
      "source": [
        "#for Test Case1\n",
        "n=2\n",
        "seats=int(input(\"Enter numbers of seats in barbershop:\"))\n",
        "barber_sleep=int(input(\"Enter status of barber's chair:\"))\n",
        "def main():\n",
        "  a=1\n",
        "  t1=threading.Thread(target=customer,args=(a,))\n",
        "  a=a+1\n",
        "  t2=threading.Thread(target=customer,args=(a,))\n",
        "  t3=threading.Thread(target=barber)\n",
        "  t4=threading.Thread(target=getHaircut)\n",
        "  t5=threading.Thread(target=cutHair)\n",
        "  t6=threading.Thread(target=balk)\n",
        "  t1.start()\n",
        "  t2.start()\n",
        "  t3.start()\n",
        "  t4.start()\n",
        "  t5.start()\n",
        "  t6.start()\n",
        "  t1.join()\n",
        "  t2.join()\n",
        "  t3.join()\n",
        "  t4.join()\n",
        "  t5.join()\n",
        "  t6.join()\n",
        "  "
      ],
      "execution_count": 4,
      "outputs": [
        {
          "name": "stdout",
          "output_type": "stream",
          "text": [
            "Enter numbers of seats in barbershop:2\n",
            "Enter status of barber's chair:1\n"
          ]
        }
      ]
    },
    {
      "cell_type": "code",
      "metadata": {
        "colab": {
          "base_uri": "https://localhost:8080/"
        },
        "id": "rgVeW_mSyHpa",
        "outputId": "5e84d067-b97e-447a-bdf6-21b74ce31b04"
      },
      "source": [
        "m=Process(target=main)\n",
        "m.start()\n",
        "m.join(timeout=12)"
      ],
      "execution_count": 5,
      "outputs": [
        {
          "output_type": "stream",
          "name": "stdout",
          "text": [
            "Time to wake barber up.\n",
            "Barber wakes up.\n",
            "Hair cut done, Next please!\n",
            "Customer:2 haves seat\n",
            "wait...\n",
            " Go have haircut.\n",
            "Ready for haircut!\n"
          ]
        }
      ]
    },
    {
      "cell_type": "code",
      "metadata": {
        "colab": {
          "base_uri": "https://localhost:8080/"
        },
        "id": "OBPNlEj61Bu5",
        "outputId": "92fabe4e-3e9f-4253-81c3-2e935bc1f094"
      },
      "source": [
        "#Test Case 2\n",
        "n=2\n",
        "seats=int(input(\"Enter numbers of seats in barbershop:\"))\n",
        "barber_sleep=int(input(\"Enter status of barber's chair:\"))\n",
        "def main2():\n",
        "  a=1\n",
        "  t1=threading.Thread(target=customer,args=(a,))\n",
        "  a=a+1\n",
        "  t2=threading.Thread(target=customer,args=(a,))\n",
        "  t3=threading.Thread(target=barber)\n",
        "  t4=threading.Thread(target=getHaircut)\n",
        "  t5=threading.Thread(target=cutHair)\n",
        "  t6=threading.Thread(target=balk)\n",
        "  t1.start()\n",
        "  t2.start()\n",
        "  t3.start()\n",
        "  t4.start()\n",
        "  t5.start()\n",
        "  t6.start()\n",
        "  t1.join()\n",
        "  t2.join()\n",
        "  t3.join()\n",
        "  t4.join()\n",
        "  t5.join()\n",
        "  t6.join()"
      ],
      "execution_count": 10,
      "outputs": [
        {
          "name": "stdout",
          "output_type": "stream",
          "text": [
            "Enter numbers of seats in barbershop:3\n",
            "Enter status of barber's chair:1\n"
          ]
        }
      ]
    },
    {
      "cell_type": "code",
      "metadata": {
        "colab": {
          "base_uri": "https://localhost:8080/"
        },
        "id": "FhHr0oRD1NoZ",
        "outputId": "d37f3018-13ea-420c-f0ba-cc109b9091dc"
      },
      "source": [
        "m=Process(target=main2)\n",
        "m.start()\n",
        "m.join(timeout=12)"
      ],
      "execution_count": 11,
      "outputs": [
        {
          "output_type": "stream",
          "name": "stdout",
          "text": [
            "Time to wake barber up.\n",
            "Barber wakes up.\n",
            "Hair cut done, Next please!\n",
            "Customer:2 haves seat\n",
            " Go have haircut.\n",
            "wait...\n",
            "Ready for haircut!\n"
          ]
        }
      ]
    },
    {
      "cell_type": "code",
      "metadata": {
        "colab": {
          "base_uri": "https://localhost:8080/"
        },
        "id": "5NPPqPsI1LBt",
        "outputId": "12cb07b4-3b1e-4b42-937f-aab4bda02f82"
      },
      "source": [
        "#Test Case 3\n",
        "n=3\n",
        "seats=int(input(\"Enter numbers of seats in barbershop:\"))\n",
        "barber_sleep=int(input(\"Enter status of barber's chair:\"))\n",
        "def main3():\n",
        "  a=1\n",
        "  t1=threading.Thread(target=customer,args=(a,))\n",
        "  a=a+1\n",
        "  t2=threading.Thread(target=customer,args=(a,))\n",
        "  a=a+1\n",
        "  t3=threading.Thread(target=customer,args=(a,))\n",
        "  a=a+1\n",
        "  t4=threading.Thread(target=barber)\n",
        "  t5=threading.Thread(target=getHaircut)\n",
        "  t6=threading.Thread(target=cutHair)\n",
        "  t7=threading.Thread(target=balk)\n",
        "  t1.start()\n",
        "  t2.start()\n",
        "  t3.start()\n",
        "  t4.start()\n",
        "  t5.start()\n",
        "  t6.start()\n",
        "  t7.start()\n",
        "  t1.join()\n",
        "  t2.join()\n",
        "  t3.join()\n",
        "  t4.join()\n",
        "  t5.join()\n",
        "  t6.join()\n",
        "  t7.join()"
      ],
      "execution_count": 16,
      "outputs": [
        {
          "name": "stdout",
          "output_type": "stream",
          "text": [
            "Enter numbers of seats in barbershop:2\n",
            "Enter status of barber's chair:0\n"
          ]
        }
      ]
    },
    {
      "cell_type": "code",
      "metadata": {
        "colab": {
          "base_uri": "https://localhost:8080/"
        },
        "id": "Qf25naA-204Q",
        "outputId": "81fe1d77-237b-4caa-bace-91fe46a659d6"
      },
      "source": [
        "m=Process(target=main3)\n",
        "m.start()\n",
        "m.join(timeout=12)"
      ],
      "execution_count": 17,
      "outputs": [
        {
          "output_type": "stream",
          "name": "stdout",
          "text": [
            "Customer:1 haves seat\n",
            " Customer1 Go have haircut.\n",
            "wait...\n",
            "Ready for haircut!\n",
            "Hair cut done, Next please!\n",
            "Customer:2 haves seat\n",
            "Customer leaves as seats are full!\n",
            " Customer:3 has to leave.\n",
            " Customer2 Go have haircut.\n"
          ]
        }
      ]
    }
  ]
}